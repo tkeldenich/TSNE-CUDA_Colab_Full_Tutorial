{
  "nbformat": 4,
  "nbformat_minor": 0,
  "metadata": {
    "colab": {
      "name": "use-tsnecuda-on-colab.ipynb",
      "provenance": [],
      "collapsed_sections": [],
      "authorship_tag": "ABX9TyOoNPZVPSnTD8U+yqy+WXkf",
      "include_colab_link": true
    },
    "kernelspec": {
      "name": "python3",
      "display_name": "Python 3"
    },
    "language_info": {
      "name": "python"
    },
    "accelerator": "GPU"
  },
  "cells": [
    {
      "cell_type": "markdown",
      "metadata": {
        "id": "view-in-github",
        "colab_type": "text"
      },
      "source": [
        "<a href=\"https://colab.research.google.com/github/tkeldenich/TSNE-CUDA_Full_Tutorial/blob/main/use_tsnecuda_on_colab.ipynb\" target=\"_parent\"><img src=\"https://colab.research.google.com/assets/colab-badge.svg\" alt=\"Open In Colab\"/></a>"
      ]
    },
    {
      "cell_type": "code",
      "metadata": {
        "id": "XELvYAhomSO6"
      },
      "source": [
        "!pip install tsnecuda &> /dev/null"
      ],
      "execution_count": null,
      "outputs": []
    },
    {
      "cell_type": "code",
      "metadata": {
        "id": "q0HgRAj3clcN"
      },
      "source": [
        "import tsnecuda"
      ],
      "execution_count": null,
      "outputs": []
    },
    {
      "cell_type": "code",
      "metadata": {
        "id": "-dzOQqwXchyl"
      },
      "source": [
        "import pandas as pd\n",
        "df = pd.read_csv('sample_data/mnist_train_small.csv', header=None, index_col=0)\n",
        "df = df/255"
      ],
      "execution_count": null,
      "outputs": []
    },
    {
      "cell_type": "code",
      "metadata": {
        "colab": {
          "base_uri": "https://localhost:8080/"
        },
        "id": "2JE2vRbGdW9J",
        "outputId": "fad3bc5b-58a4-43c3-fe52-8b32ecddd167"
      },
      "source": [
        "!pip install -q condacolab &> /dev/null\n",
        "import condacolab\n",
        "condacolab.install()"
      ],
      "execution_count": null,
      "outputs": [
        {
          "output_type": "stream",
          "name": "stdout",
          "text": [
            "⏬ Downloading https://github.com/jaimergp/miniforge/releases/latest/download/Mambaforge-colab-Linux-x86_64.sh...\n",
            "📦 Installing...\n",
            "📌 Adjusting configuration...\n",
            "🩹 Patching environment...\n",
            "⏲ Done in 0:00:34\n",
            "🔁 Restarting kernel...\n"
          ]
        }
      ]
    },
    {
      "cell_type": "code",
      "metadata": {
        "id": "zD--BAb5ePfx"
      },
      "source": [
        "!wget https://anaconda.org/CannyLab/tsnecuda/2.1.0/download/linux-64/tsnecuda-2.1.0-cuda101.tar.bz2 &> /dev/null\n",
        "!tar xvjf tsnecuda-2.1.0-cuda101.tar.bz2 &> /dev/null\n",
        "!cp -r site-packages/* /usr/local/lib/python3.7/dist-packages/"
      ],
      "execution_count": null,
      "outputs": []
    },
    {
      "cell_type": "code",
      "metadata": {
        "colab": {
          "base_uri": "https://localhost:8080/"
        },
        "id": "CnYQ-eW9dN1X",
        "outputId": "5c2e74de-3337-46d7-f4ba-93fa9e84fa06"
      },
      "source": [
        "!conda install --offline tsnecuda-2.1.0-cuda101.tar.bz2"
      ],
      "execution_count": null,
      "outputs": [
        {
          "output_type": "stream",
          "name": "stdout",
          "text": [
            "\n",
            "Downloading and Extracting Packages\n",
            "100% 1.0/1 [00:05<00:00,  5.50s/it]\n",
            "Preparing transaction: - \b\bdone\n",
            "Verifying transaction: | \b\bdone\n",
            "Executing transaction: - \b\bdone\n"
          ]
        }
      ]
    },
    {
      "cell_type": "code",
      "metadata": {
        "id": "gnfUkSNFcmUC"
      },
      "source": [
        "from tsnecuda import TSNE as TSNE_CUDA\n",
        "\n",
        "tsne_cuda = TSNE_CUDA(n_components=2, verbose=0)"
      ],
      "execution_count": null,
      "outputs": []
    }
  ]
}